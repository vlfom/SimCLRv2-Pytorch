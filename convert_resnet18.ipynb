{
 "cells": [
  {
   "cell_type": "markdown",
   "id": "cc684f51-4096-4b15-976c-adafe172a4eb",
   "metadata": {},
   "source": [
    "### Convert models"
   ]
  },
  {
   "cell_type": "code",
   "execution_count": 3,
   "id": "45c51b9b-b16c-4a93-bbf0-6ffdeea57f67",
   "metadata": {},
   "outputs": [],
   "source": [
    "# CIFAR10\n",
    "\n",
    "!python convert.py 'cifar10-ckpts/model.ckpt-97657'\n",
    "!mv r18_1x_sk0.pth cifar10-ckpts/resnet18_simclr.pth"
   ]
  },
  {
   "cell_type": "code",
   "execution_count": 4,
   "id": "c34d2b9a-00a1-441c-9a4b-f06f2cd250b5",
   "metadata": {},
   "outputs": [],
   "source": [
    "# CIFAR100\n",
    "\n",
    "!python convert.py 'cifar100-ckpts/model.ckpt-97657'\n",
    "!mv r18_1x_sk0.pth cifar100-ckpts/resnet18_simclr.pth"
   ]
  },
  {
   "cell_type": "code",
   "execution_count": null,
   "id": "ae67d3a7-f82b-4ac1-90bf-0aec3efb7f08",
   "metadata": {},
   "outputs": [],
   "source": []
  }
 ],
 "metadata": {
  "kernelspec": {
   "display_name": "Python [conda env:tensorflow2_latest_p37]",
   "language": "python",
   "name": "conda-env-tensorflow2_latest_p37-py"
  },
  "language_info": {
   "codemirror_mode": {
    "name": "ipython",
    "version": 3
   },
   "file_extension": ".py",
   "mimetype": "text/x-python",
   "name": "python",
   "nbconvert_exporter": "python",
   "pygments_lexer": "ipython3",
   "version": "3.7.10"
  }
 },
 "nbformat": 4,
 "nbformat_minor": 5
}
